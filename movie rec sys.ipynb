{
 "cells": [
  {
   "cell_type": "code",
   "execution_count": 1,
   "id": "18a8641e-bc32-47c9-aef9-d0f81d6a1a43",
   "metadata": {},
   "outputs": [],
   "source": [
    " import numpy as np"
   ]
  },
  {
   "cell_type": "code",
   "execution_count": 2,
   "id": "80876929-6b7e-4365-8242-75afbc6fac1f",
   "metadata": {},
   "outputs": [],
   "source": [
    "import pandas as pd"
   ]
  },
  {
   "cell_type": "code",
   "execution_count": 3,
   "id": "433ea932-bd2c-47b1-a42f-721d333b9d73",
   "metadata": {},
   "outputs": [],
   "source": [
    "movies = pd.read_csv('imdb_movies.csv')"
   ]
  },
  {
   "cell_type": "code",
   "execution_count": 4,
   "id": "50f9bfaf-cee5-4826-8b5a-da477af45488",
   "metadata": {},
   "outputs": [
    {
     "data": {
      "text/html": [
       "<div>\n",
       "<style scoped>\n",
       "    .dataframe tbody tr th:only-of-type {\n",
       "        vertical-align: middle;\n",
       "    }\n",
       "\n",
       "    .dataframe tbody tr th {\n",
       "        vertical-align: top;\n",
       "    }\n",
       "\n",
       "    .dataframe thead th {\n",
       "        text-align: right;\n",
       "    }\n",
       "</style>\n",
       "<table border=\"1\" class=\"dataframe\">\n",
       "  <thead>\n",
       "    <tr style=\"text-align: right;\">\n",
       "      <th></th>\n",
       "      <th>names</th>\n",
       "      <th>date_x</th>\n",
       "      <th>score</th>\n",
       "      <th>genre</th>\n",
       "      <th>overview</th>\n",
       "      <th>crew</th>\n",
       "      <th>orig_title</th>\n",
       "      <th>status</th>\n",
       "      <th>orig_lang</th>\n",
       "      <th>budget_x</th>\n",
       "      <th>revenue</th>\n",
       "      <th>country</th>\n",
       "    </tr>\n",
       "  </thead>\n",
       "  <tbody>\n",
       "    <tr>\n",
       "      <th>0</th>\n",
       "      <td>Creed III</td>\n",
       "      <td>03/02/2023</td>\n",
       "      <td>73.0</td>\n",
       "      <td>Drama, Action</td>\n",
       "      <td>After dominating the boxing world, Adonis Cree...</td>\n",
       "      <td>Michael B. Jordan, Adonis Creed, Tessa Thompso...</td>\n",
       "      <td>Creed III</td>\n",
       "      <td>Released</td>\n",
       "      <td>English</td>\n",
       "      <td>75000000.0</td>\n",
       "      <td>271616668.0</td>\n",
       "      <td>AU</td>\n",
       "    </tr>\n",
       "  </tbody>\n",
       "</table>\n",
       "</div>"
      ],
      "text/plain": [
       "       names       date_x  score          genre  \\\n",
       "0  Creed III  03/02/2023    73.0  Drama, Action   \n",
       "\n",
       "                                            overview  \\\n",
       "0  After dominating the boxing world, Adonis Cree...   \n",
       "\n",
       "                                                crew orig_title     status  \\\n",
       "0  Michael B. Jordan, Adonis Creed, Tessa Thompso...  Creed III   Released   \n",
       "\n",
       "  orig_lang    budget_x      revenue country  \n",
       "0   English  75000000.0  271616668.0      AU  "
      ]
     },
     "execution_count": 4,
     "metadata": {},
     "output_type": "execute_result"
    }
   ],
   "source": [
    "movies.head(1)\n"
   ]
  },
  {
   "cell_type": "code",
   "execution_count": 5,
   "id": "8b09e6bc-2b07-43b3-94ff-e03ce100de9e",
   "metadata": {},
   "outputs": [],
   "source": [
    "movies=movies[['names','overview','genre','score','crew']]"
   ]
  },
  {
   "cell_type": "code",
   "execution_count": 6,
   "id": "473b6d84-fd34-4590-9fc0-688069f0087a",
   "metadata": {},
   "outputs": [
    {
     "data": {
      "text/html": [
       "<div>\n",
       "<style scoped>\n",
       "    .dataframe tbody tr th:only-of-type {\n",
       "        vertical-align: middle;\n",
       "    }\n",
       "\n",
       "    .dataframe tbody tr th {\n",
       "        vertical-align: top;\n",
       "    }\n",
       "\n",
       "    .dataframe thead th {\n",
       "        text-align: right;\n",
       "    }\n",
       "</style>\n",
       "<table border=\"1\" class=\"dataframe\">\n",
       "  <thead>\n",
       "    <tr style=\"text-align: right;\">\n",
       "      <th></th>\n",
       "      <th>names</th>\n",
       "      <th>overview</th>\n",
       "      <th>genre</th>\n",
       "      <th>score</th>\n",
       "      <th>crew</th>\n",
       "    </tr>\n",
       "  </thead>\n",
       "  <tbody>\n",
       "    <tr>\n",
       "      <th>0</th>\n",
       "      <td>Creed III</td>\n",
       "      <td>After dominating the boxing world, Adonis Cree...</td>\n",
       "      <td>Drama, Action</td>\n",
       "      <td>73.0</td>\n",
       "      <td>Michael B. Jordan, Adonis Creed, Tessa Thompso...</td>\n",
       "    </tr>\n",
       "    <tr>\n",
       "      <th>1</th>\n",
       "      <td>Avatar: The Way of Water</td>\n",
       "      <td>Set more than a decade after the events of the...</td>\n",
       "      <td>Science Fiction, Adventure, Action</td>\n",
       "      <td>78.0</td>\n",
       "      <td>Sam Worthington, Jake Sully, Zoe Saldaña, Neyt...</td>\n",
       "    </tr>\n",
       "    <tr>\n",
       "      <th>2</th>\n",
       "      <td>The Super Mario Bros. Movie</td>\n",
       "      <td>While working underground to fix a water main,...</td>\n",
       "      <td>Animation, Adventure, Family, Fantasy, Comedy</td>\n",
       "      <td>76.0</td>\n",
       "      <td>Chris Pratt, Mario (voice), Anya Taylor-Joy, P...</td>\n",
       "    </tr>\n",
       "    <tr>\n",
       "      <th>3</th>\n",
       "      <td>Mummies</td>\n",
       "      <td>Through a series of unfortunate events, three ...</td>\n",
       "      <td>Animation, Comedy, Family, Adventure, Fantasy</td>\n",
       "      <td>70.0</td>\n",
       "      <td>Óscar Barberán, Thut (voice), Ana Esther Albor...</td>\n",
       "    </tr>\n",
       "    <tr>\n",
       "      <th>4</th>\n",
       "      <td>Supercell</td>\n",
       "      <td>Good-hearted teenager William always lived in ...</td>\n",
       "      <td>Action</td>\n",
       "      <td>61.0</td>\n",
       "      <td>Skeet Ulrich, Roy Cameron, Anne Heche, Dr Quin...</td>\n",
       "    </tr>\n",
       "  </tbody>\n",
       "</table>\n",
       "</div>"
      ],
      "text/plain": [
       "                         names  \\\n",
       "0                    Creed III   \n",
       "1     Avatar: The Way of Water   \n",
       "2  The Super Mario Bros. Movie   \n",
       "3                      Mummies   \n",
       "4                    Supercell   \n",
       "\n",
       "                                            overview  \\\n",
       "0  After dominating the boxing world, Adonis Cree...   \n",
       "1  Set more than a decade after the events of the...   \n",
       "2  While working underground to fix a water main,...   \n",
       "3  Through a series of unfortunate events, three ...   \n",
       "4  Good-hearted teenager William always lived in ...   \n",
       "\n",
       "                                           genre  score  \\\n",
       "0                                  Drama, Action   73.0   \n",
       "1             Science Fiction, Adventure, Action   78.0   \n",
       "2  Animation, Adventure, Family, Fantasy, Comedy   76.0   \n",
       "3  Animation, Comedy, Family, Adventure, Fantasy   70.0   \n",
       "4                                         Action   61.0   \n",
       "\n",
       "                                                crew  \n",
       "0  Michael B. Jordan, Adonis Creed, Tessa Thompso...  \n",
       "1  Sam Worthington, Jake Sully, Zoe Saldaña, Neyt...  \n",
       "2  Chris Pratt, Mario (voice), Anya Taylor-Joy, P...  \n",
       "3  Óscar Barberán, Thut (voice), Ana Esther Albor...  \n",
       "4  Skeet Ulrich, Roy Cameron, Anne Heche, Dr Quin...  "
      ]
     },
     "execution_count": 6,
     "metadata": {},
     "output_type": "execute_result"
    }
   ],
   "source": [
    "movies.head()"
   ]
  },
  {
   "cell_type": "code",
   "execution_count": 7,
   "id": "290bb95d-fc0f-477c-a234-ea59cfe0a796",
   "metadata": {},
   "outputs": [
    {
     "data": {
      "text/plain": [
       "names        0\n",
       "overview     0\n",
       "genre       85\n",
       "score        0\n",
       "crew        56\n",
       "dtype: int64"
      ]
     },
     "execution_count": 7,
     "metadata": {},
     "output_type": "execute_result"
    }
   ],
   "source": [
    "movies.isnull().sum()"
   ]
  },
  {
   "cell_type": "code",
   "execution_count": 8,
   "id": "c42bffa8-3c55-44df-99e2-38534d099cfd",
   "metadata": {},
   "outputs": [],
   "source": [
    "movies.dropna(inplace=True)"
   ]
  },
  {
   "cell_type": "code",
   "execution_count": 9,
   "id": "93e55db1-6aa9-4eb8-a909-a81984e7a0b3",
   "metadata": {},
   "outputs": [
    {
     "data": {
      "text/plain": [
       "names       0\n",
       "overview    0\n",
       "genre       0\n",
       "score       0\n",
       "crew        0\n",
       "dtype: int64"
      ]
     },
     "execution_count": 9,
     "metadata": {},
     "output_type": "execute_result"
    }
   ],
   "source": [
    "movies.isnull().sum()"
   ]
  },
  {
   "cell_type": "code",
   "execution_count": 10,
   "id": "c09981ef-862e-4fbd-8c77-3ffc23501f1a",
   "metadata": {},
   "outputs": [
    {
     "data": {
      "text/plain": [
       "np.int64(178)"
      ]
     },
     "execution_count": 10,
     "metadata": {},
     "output_type": "execute_result"
    }
   ],
   "source": [
    "movies.duplicated().sum()"
   ]
  },
  {
   "cell_type": "code",
   "execution_count": 11,
   "id": "cd4d1032-f008-448b-a4a6-270b5ae9baff",
   "metadata": {},
   "outputs": [
    {
     "data": {
      "text/plain": [
       "'After dominating the boxing world, Adonis Creed has been thriving in both his career and family life. When a childhood friend and former boxing prodigy, Damien Anderson, resurfaces after serving a long sentence in prison, he is eager to prove that he deserves his shot in the ring. The face-off between former friends is more than just a fight. To settle the score, Adonis must put his future on the line to battle Damien — a fighter who has nothing to lose.'"
      ]
     },
     "execution_count": 11,
     "metadata": {},
     "output_type": "execute_result"
    }
   ],
   "source": [
    "movies['overview'][0]"
   ]
  },
  {
   "cell_type": "code",
   "execution_count": 12,
   "id": "d2eecf28-5d0c-40ba-a617-c05a8a9e855a",
   "metadata": {},
   "outputs": [],
   "source": [
    "movies['overview'] = movies['overview'].apply(lambda x:x.split())"
   ]
  },
  {
   "cell_type": "code",
   "execution_count": 13,
   "id": "e092d104-2df8-455b-a712-b1e92fa4e2ba",
   "metadata": {},
   "outputs": [],
   "source": [
    "movies['crew'] = movies['crew'].apply(lambda x: x.replace(' ', ''))\n",
    "movies['genre'] = movies['genre'].apply(lambda x: x.replace(' ', ''))"
   ]
  },
  {
   "cell_type": "code",
   "execution_count": 14,
   "id": "3b3976ca-8844-48db-bfbd-34b1dd01cf9d",
   "metadata": {},
   "outputs": [
    {
     "data": {
      "text/html": [
       "<div>\n",
       "<style scoped>\n",
       "    .dataframe tbody tr th:only-of-type {\n",
       "        vertical-align: middle;\n",
       "    }\n",
       "\n",
       "    .dataframe tbody tr th {\n",
       "        vertical-align: top;\n",
       "    }\n",
       "\n",
       "    .dataframe thead th {\n",
       "        text-align: right;\n",
       "    }\n",
       "</style>\n",
       "<table border=\"1\" class=\"dataframe\">\n",
       "  <thead>\n",
       "    <tr style=\"text-align: right;\">\n",
       "      <th></th>\n",
       "      <th>names</th>\n",
       "      <th>overview</th>\n",
       "      <th>genre</th>\n",
       "      <th>score</th>\n",
       "      <th>crew</th>\n",
       "    </tr>\n",
       "  </thead>\n",
       "  <tbody>\n",
       "    <tr>\n",
       "      <th>0</th>\n",
       "      <td>Creed III</td>\n",
       "      <td>[After, dominating, the, boxing, world,, Adoni...</td>\n",
       "      <td>Drama, Action</td>\n",
       "      <td>73.0</td>\n",
       "      <td>MichaelB.Jordan,AdonisCreed,TessaThompson,Bian...</td>\n",
       "    </tr>\n",
       "    <tr>\n",
       "      <th>1</th>\n",
       "      <td>Avatar: The Way of Water</td>\n",
       "      <td>[Set, more, than, a, decade, after, the, event...</td>\n",
       "      <td>ScienceFiction, Adventure, Action</td>\n",
       "      <td>78.0</td>\n",
       "      <td>SamWorthington,JakeSully,ZoeSaldaña,Neytiri,Si...</td>\n",
       "    </tr>\n",
       "    <tr>\n",
       "      <th>2</th>\n",
       "      <td>The Super Mario Bros. Movie</td>\n",
       "      <td>[While, working, underground, to, fix, a, wate...</td>\n",
       "      <td>Animation, Adventure, Family, Fantasy, Comedy</td>\n",
       "      <td>76.0</td>\n",
       "      <td>ChrisPratt,Mario(voice),AnyaTaylor-Joy,Princes...</td>\n",
       "    </tr>\n",
       "    <tr>\n",
       "      <th>3</th>\n",
       "      <td>Mummies</td>\n",
       "      <td>[Through, a, series, of, unfortunate, events,,...</td>\n",
       "      <td>Animation, Comedy, Family, Adventure, Fantasy</td>\n",
       "      <td>70.0</td>\n",
       "      <td>ÓscarBarberán,Thut(voice),AnaEstherAlborg,Nefe...</td>\n",
       "    </tr>\n",
       "    <tr>\n",
       "      <th>4</th>\n",
       "      <td>Supercell</td>\n",
       "      <td>[Good-hearted, teenager, William, always, live...</td>\n",
       "      <td>Action</td>\n",
       "      <td>61.0</td>\n",
       "      <td>SkeetUlrich,RoyCameron,AnneHeche,DrQuinnBrody,...</td>\n",
       "    </tr>\n",
       "  </tbody>\n",
       "</table>\n",
       "</div>"
      ],
      "text/plain": [
       "                         names  \\\n",
       "0                    Creed III   \n",
       "1     Avatar: The Way of Water   \n",
       "2  The Super Mario Bros. Movie   \n",
       "3                      Mummies   \n",
       "4                    Supercell   \n",
       "\n",
       "                                            overview  \\\n",
       "0  [After, dominating, the, boxing, world,, Adoni...   \n",
       "1  [Set, more, than, a, decade, after, the, event...   \n",
       "2  [While, working, underground, to, fix, a, wate...   \n",
       "3  [Through, a, series, of, unfortunate, events,,...   \n",
       "4  [Good-hearted, teenager, William, always, live...   \n",
       "\n",
       "                                           genre  score  \\\n",
       "0                                  Drama, Action   73.0   \n",
       "1              ScienceFiction, Adventure, Action   78.0   \n",
       "2  Animation, Adventure, Family, Fantasy, Comedy   76.0   \n",
       "3  Animation, Comedy, Family, Adventure, Fantasy   70.0   \n",
       "4                                         Action   61.0   \n",
       "\n",
       "                                                crew  \n",
       "0  MichaelB.Jordan,AdonisCreed,TessaThompson,Bian...  \n",
       "1  SamWorthington,JakeSully,ZoeSaldaña,Neytiri,Si...  \n",
       "2  ChrisPratt,Mario(voice),AnyaTaylor-Joy,Princes...  \n",
       "3  ÓscarBarberán,Thut(voice),AnaEstherAlborg,Nefe...  \n",
       "4  SkeetUlrich,RoyCameron,AnneHeche,DrQuinnBrody,...  "
      ]
     },
     "execution_count": 14,
     "metadata": {},
     "output_type": "execute_result"
    }
   ],
   "source": [
    "movies.head()"
   ]
  },
  {
   "cell_type": "code",
   "execution_count": 15,
   "id": "7e06c9d1-346f-493e-9958-5fa8ba329cc3",
   "metadata": {},
   "outputs": [],
   "source": [
    "movies['genre'] = movies['genre'].apply(lambda x:x.split())\n",
    "movies['crew'] = movies['crew'].apply(lambda x:x.split())"
   ]
  },
  {
   "cell_type": "code",
   "execution_count": 16,
   "id": "f6ea5071-de75-42e6-9212-29e021ab0ca6",
   "metadata": {},
   "outputs": [],
   "source": [
    "movies['tags'] = movies['overview']+movies['genre']+movies['crew']"
   ]
  },
  {
   "cell_type": "code",
   "execution_count": 17,
   "id": "176eef40-829c-436f-96e2-cce02780399d",
   "metadata": {},
   "outputs": [
    {
     "data": {
      "text/html": [
       "<div>\n",
       "<style scoped>\n",
       "    .dataframe tbody tr th:only-of-type {\n",
       "        vertical-align: middle;\n",
       "    }\n",
       "\n",
       "    .dataframe tbody tr th {\n",
       "        vertical-align: top;\n",
       "    }\n",
       "\n",
       "    .dataframe thead th {\n",
       "        text-align: right;\n",
       "    }\n",
       "</style>\n",
       "<table border=\"1\" class=\"dataframe\">\n",
       "  <thead>\n",
       "    <tr style=\"text-align: right;\">\n",
       "      <th></th>\n",
       "      <th>names</th>\n",
       "      <th>overview</th>\n",
       "      <th>genre</th>\n",
       "      <th>score</th>\n",
       "      <th>crew</th>\n",
       "      <th>tags</th>\n",
       "    </tr>\n",
       "  </thead>\n",
       "  <tbody>\n",
       "    <tr>\n",
       "      <th>0</th>\n",
       "      <td>Creed III</td>\n",
       "      <td>[After, dominating, the, boxing, world,, Adoni...</td>\n",
       "      <td>[Drama,, Action]</td>\n",
       "      <td>73.0</td>\n",
       "      <td>[MichaelB.Jordan,AdonisCreed,TessaThompson,Bia...</td>\n",
       "      <td>[After, dominating, the, boxing, world,, Adoni...</td>\n",
       "    </tr>\n",
       "    <tr>\n",
       "      <th>1</th>\n",
       "      <td>Avatar: The Way of Water</td>\n",
       "      <td>[Set, more, than, a, decade, after, the, event...</td>\n",
       "      <td>[ScienceFiction,, Adventure,, Action]</td>\n",
       "      <td>78.0</td>\n",
       "      <td>[SamWorthington,JakeSully,ZoeSaldaña,Neytiri,S...</td>\n",
       "      <td>[Set, more, than, a, decade, after, the, event...</td>\n",
       "    </tr>\n",
       "    <tr>\n",
       "      <th>2</th>\n",
       "      <td>The Super Mario Bros. Movie</td>\n",
       "      <td>[While, working, underground, to, fix, a, wate...</td>\n",
       "      <td>[Animation,, Adventure,, Family,, Fantasy,, Co...</td>\n",
       "      <td>76.0</td>\n",
       "      <td>[ChrisPratt,Mario(voice),AnyaTaylor-Joy,Prince...</td>\n",
       "      <td>[While, working, underground, to, fix, a, wate...</td>\n",
       "    </tr>\n",
       "    <tr>\n",
       "      <th>3</th>\n",
       "      <td>Mummies</td>\n",
       "      <td>[Through, a, series, of, unfortunate, events,,...</td>\n",
       "      <td>[Animation,, Comedy,, Family,, Adventure,, Fan...</td>\n",
       "      <td>70.0</td>\n",
       "      <td>[ÓscarBarberán,Thut(voice),AnaEstherAlborg,Nef...</td>\n",
       "      <td>[Through, a, series, of, unfortunate, events,,...</td>\n",
       "    </tr>\n",
       "    <tr>\n",
       "      <th>4</th>\n",
       "      <td>Supercell</td>\n",
       "      <td>[Good-hearted, teenager, William, always, live...</td>\n",
       "      <td>[Action]</td>\n",
       "      <td>61.0</td>\n",
       "      <td>[SkeetUlrich,RoyCameron,AnneHeche,DrQuinnBrody...</td>\n",
       "      <td>[Good-hearted, teenager, William, always, live...</td>\n",
       "    </tr>\n",
       "  </tbody>\n",
       "</table>\n",
       "</div>"
      ],
      "text/plain": [
       "                         names  \\\n",
       "0                    Creed III   \n",
       "1     Avatar: The Way of Water   \n",
       "2  The Super Mario Bros. Movie   \n",
       "3                      Mummies   \n",
       "4                    Supercell   \n",
       "\n",
       "                                            overview  \\\n",
       "0  [After, dominating, the, boxing, world,, Adoni...   \n",
       "1  [Set, more, than, a, decade, after, the, event...   \n",
       "2  [While, working, underground, to, fix, a, wate...   \n",
       "3  [Through, a, series, of, unfortunate, events,,...   \n",
       "4  [Good-hearted, teenager, William, always, live...   \n",
       "\n",
       "                                               genre  score  \\\n",
       "0                                   [Drama,, Action]   73.0   \n",
       "1              [ScienceFiction,, Adventure,, Action]   78.0   \n",
       "2  [Animation,, Adventure,, Family,, Fantasy,, Co...   76.0   \n",
       "3  [Animation,, Comedy,, Family,, Adventure,, Fan...   70.0   \n",
       "4                                           [Action]   61.0   \n",
       "\n",
       "                                                crew  \\\n",
       "0  [MichaelB.Jordan,AdonisCreed,TessaThompson,Bia...   \n",
       "1  [SamWorthington,JakeSully,ZoeSaldaña,Neytiri,S...   \n",
       "2  [ChrisPratt,Mario(voice),AnyaTaylor-Joy,Prince...   \n",
       "3  [ÓscarBarberán,Thut(voice),AnaEstherAlborg,Nef...   \n",
       "4  [SkeetUlrich,RoyCameron,AnneHeche,DrQuinnBrody...   \n",
       "\n",
       "                                                tags  \n",
       "0  [After, dominating, the, boxing, world,, Adoni...  \n",
       "1  [Set, more, than, a, decade, after, the, event...  \n",
       "2  [While, working, underground, to, fix, a, wate...  \n",
       "3  [Through, a, series, of, unfortunate, events,,...  \n",
       "4  [Good-hearted, teenager, William, always, live...  "
      ]
     },
     "execution_count": 17,
     "metadata": {},
     "output_type": "execute_result"
    }
   ],
   "source": [
    "movies.head()"
   ]
  },
  {
   "cell_type": "code",
   "execution_count": 18,
   "id": "d542016c-8fe9-4c57-8467-8ca26648a83b",
   "metadata": {},
   "outputs": [],
   "source": [
    "new_df=movies[['names','tags']]"
   ]
  },
  {
   "cell_type": "code",
   "execution_count": 19,
   "id": "bb794f2d-2f3a-45dd-b1a0-36fc8921485c",
   "metadata": {},
   "outputs": [
    {
     "data": {
      "text/html": [
       "<div>\n",
       "<style scoped>\n",
       "    .dataframe tbody tr th:only-of-type {\n",
       "        vertical-align: middle;\n",
       "    }\n",
       "\n",
       "    .dataframe tbody tr th {\n",
       "        vertical-align: top;\n",
       "    }\n",
       "\n",
       "    .dataframe thead th {\n",
       "        text-align: right;\n",
       "    }\n",
       "</style>\n",
       "<table border=\"1\" class=\"dataframe\">\n",
       "  <thead>\n",
       "    <tr style=\"text-align: right;\">\n",
       "      <th></th>\n",
       "      <th>names</th>\n",
       "      <th>tags</th>\n",
       "    </tr>\n",
       "  </thead>\n",
       "  <tbody>\n",
       "    <tr>\n",
       "      <th>0</th>\n",
       "      <td>Creed III</td>\n",
       "      <td>[After, dominating, the, boxing, world,, Adoni...</td>\n",
       "    </tr>\n",
       "    <tr>\n",
       "      <th>1</th>\n",
       "      <td>Avatar: The Way of Water</td>\n",
       "      <td>[Set, more, than, a, decade, after, the, event...</td>\n",
       "    </tr>\n",
       "    <tr>\n",
       "      <th>2</th>\n",
       "      <td>The Super Mario Bros. Movie</td>\n",
       "      <td>[While, working, underground, to, fix, a, wate...</td>\n",
       "    </tr>\n",
       "    <tr>\n",
       "      <th>3</th>\n",
       "      <td>Mummies</td>\n",
       "      <td>[Through, a, series, of, unfortunate, events,,...</td>\n",
       "    </tr>\n",
       "    <tr>\n",
       "      <th>4</th>\n",
       "      <td>Supercell</td>\n",
       "      <td>[Good-hearted, teenager, William, always, live...</td>\n",
       "    </tr>\n",
       "    <tr>\n",
       "      <th>...</th>\n",
       "      <td>...</td>\n",
       "      <td>...</td>\n",
       "    </tr>\n",
       "    <tr>\n",
       "      <th>10173</th>\n",
       "      <td>20th Century Women</td>\n",
       "      <td>[In, 1979, Santa, Barbara,, California,, Dorot...</td>\n",
       "    </tr>\n",
       "    <tr>\n",
       "      <th>10174</th>\n",
       "      <td>Delta Force 2: The Colombian Connection</td>\n",
       "      <td>[When, DEA, agents, are, taken, captive, by, a...</td>\n",
       "    </tr>\n",
       "    <tr>\n",
       "      <th>10175</th>\n",
       "      <td>The Russia House</td>\n",
       "      <td>[Barley, Scott, Blair,, a, Lisbon-based, edito...</td>\n",
       "    </tr>\n",
       "    <tr>\n",
       "      <th>10176</th>\n",
       "      <td>Darkman II: The Return of Durant</td>\n",
       "      <td>[Darkman, and, Durant, return, and, they, hate...</td>\n",
       "    </tr>\n",
       "    <tr>\n",
       "      <th>10177</th>\n",
       "      <td>The Swan Princess: A Royal Wedding</td>\n",
       "      <td>[Princess, Odette, and, Prince, Derek, are, go...</td>\n",
       "    </tr>\n",
       "  </tbody>\n",
       "</table>\n",
       "<p>10052 rows × 2 columns</p>\n",
       "</div>"
      ],
      "text/plain": [
       "                                         names  \\\n",
       "0                                    Creed III   \n",
       "1                     Avatar: The Way of Water   \n",
       "2                  The Super Mario Bros. Movie   \n",
       "3                                      Mummies   \n",
       "4                                    Supercell   \n",
       "...                                        ...   \n",
       "10173                       20th Century Women   \n",
       "10174  Delta Force 2: The Colombian Connection   \n",
       "10175                         The Russia House   \n",
       "10176         Darkman II: The Return of Durant   \n",
       "10177       The Swan Princess: A Royal Wedding   \n",
       "\n",
       "                                                    tags  \n",
       "0      [After, dominating, the, boxing, world,, Adoni...  \n",
       "1      [Set, more, than, a, decade, after, the, event...  \n",
       "2      [While, working, underground, to, fix, a, wate...  \n",
       "3      [Through, a, series, of, unfortunate, events,,...  \n",
       "4      [Good-hearted, teenager, William, always, live...  \n",
       "...                                                  ...  \n",
       "10173  [In, 1979, Santa, Barbara,, California,, Dorot...  \n",
       "10174  [When, DEA, agents, are, taken, captive, by, a...  \n",
       "10175  [Barley, Scott, Blair,, a, Lisbon-based, edito...  \n",
       "10176  [Darkman, and, Durant, return, and, they, hate...  \n",
       "10177  [Princess, Odette, and, Prince, Derek, are, go...  \n",
       "\n",
       "[10052 rows x 2 columns]"
      ]
     },
     "execution_count": 19,
     "metadata": {},
     "output_type": "execute_result"
    }
   ],
   "source": [
    "new_df"
   ]
  },
  {
   "cell_type": "code",
   "execution_count": 20,
   "id": "5f881f27-1d6b-44e9-ac65-909caec4a949",
   "metadata": {},
   "outputs": [
    {
     "name": "stderr",
     "output_type": "stream",
     "text": [
      "C:\\Users\\purua\\AppData\\Local\\Temp\\ipykernel_16920\\487797088.py:1: SettingWithCopyWarning: \n",
      "A value is trying to be set on a copy of a slice from a DataFrame.\n",
      "Try using .loc[row_indexer,col_indexer] = value instead\n",
      "\n",
      "See the caveats in the documentation: https://pandas.pydata.org/pandas-docs/stable/user_guide/indexing.html#returning-a-view-versus-a-copy\n",
      "  new_df['tags']=new_df['tags'].apply(lambda x:\" \".join(x))\n"
     ]
    }
   ],
   "source": [
    "new_df['tags']=new_df['tags'].apply(lambda x:\" \".join(x))"
   ]
  },
  {
   "cell_type": "code",
   "execution_count": 21,
   "id": "17e0c44b-6ba0-4345-af7c-78c8590b82e4",
   "metadata": {},
   "outputs": [
    {
     "data": {
      "text/plain": [
       "\"After dominating the boxing world, Adonis Creed has been thriving in both his career and family life. When a childhood friend and former boxing prodigy, Damien Anderson, resurfaces after serving a long sentence in prison, he is eager to prove that he deserves his shot in the ring. The face-off between former friends is more than just a fight. To settle the score, Adonis must put his future on the line to battle Damien — a fighter who has nothing to lose. Drama, Action MichaelB.Jordan,AdonisCreed,TessaThompson,BiancaTaylor,JonathanMajors,DamienAnderson,WoodHarris,Tony'LittleDuke'Evers,PhyliciaRashād,MaryAnneCreed,MilaDavis-Kent,AmaraCreed,FlorianMunteanu,ViktorDrago,JoséBenavidezJr.,FelixChavez,SelenisLeyva,LauraChavez\""
      ]
     },
     "execution_count": 21,
     "metadata": {},
     "output_type": "execute_result"
    }
   ],
   "source": [
    "new_df['tags'][0]"
   ]
  },
  {
   "cell_type": "code",
   "execution_count": 22,
   "id": "56130461-4416-4605-9e4c-47e55cd47f1f",
   "metadata": {},
   "outputs": [
    {
     "name": "stderr",
     "output_type": "stream",
     "text": [
      "C:\\Users\\purua\\AppData\\Local\\Temp\\ipykernel_16920\\4224080999.py:1: SettingWithCopyWarning: \n",
      "A value is trying to be set on a copy of a slice from a DataFrame.\n",
      "Try using .loc[row_indexer,col_indexer] = value instead\n",
      "\n",
      "See the caveats in the documentation: https://pandas.pydata.org/pandas-docs/stable/user_guide/indexing.html#returning-a-view-versus-a-copy\n",
      "  new_df['tags']=new_df['tags'].apply(lambda x:x.lower())\n"
     ]
    }
   ],
   "source": [
    "new_df['tags']=new_df['tags'].apply(lambda x:x.lower())"
   ]
  },
  {
   "cell_type": "code",
   "execution_count": 23,
   "id": "4fc1d487-9baf-4fba-9915-768bf5938cee",
   "metadata": {},
   "outputs": [
    {
     "data": {
      "text/plain": [
       "\"after dominating the boxing world, adonis creed has been thriving in both his career and family life. when a childhood friend and former boxing prodigy, damien anderson, resurfaces after serving a long sentence in prison, he is eager to prove that he deserves his shot in the ring. the face-off between former friends is more than just a fight. to settle the score, adonis must put his future on the line to battle damien — a fighter who has nothing to lose. drama, action michaelb.jordan,adoniscreed,tessathompson,biancataylor,jonathanmajors,damienanderson,woodharris,tony'littleduke'evers,phyliciarashād,maryannecreed,miladavis-kent,amaracreed,florianmunteanu,viktordrago,josébenavidezjr.,felixchavez,selenisleyva,laurachavez\""
      ]
     },
     "execution_count": 23,
     "metadata": {},
     "output_type": "execute_result"
    }
   ],
   "source": [
    "new_df['tags'][0]"
   ]
  },
  {
   "cell_type": "code",
   "execution_count": 24,
   "id": "ecc7a442-0cac-4518-ae47-dcc3a26992d6",
   "metadata": {},
   "outputs": [],
   "source": [
    "from sklearn.feature_extraction.text import CountVectorizer\n",
    "cv = CountVectorizer(max_features=5000,stop_words='english')"
   ]
  },
  {
   "cell_type": "code",
   "execution_count": 25,
   "id": "0316571c",
   "metadata": {},
   "outputs": [],
   "source": [
    "vectors =cv.fit_transform(new_df['tags']).toarray()"
   ]
  },
  {
   "cell_type": "code",
   "execution_count": 26,
   "id": "7c24353e-7406-4f68-86ce-29c8d9c95438",
   "metadata": {},
   "outputs": [
    {
     "data": {
      "text/plain": [
       "array([[0, 0, 0, ..., 0, 0, 0],\n",
       "       [0, 0, 0, ..., 0, 0, 0],\n",
       "       [0, 0, 0, ..., 0, 0, 0],\n",
       "       ...,\n",
       "       [0, 0, 0, ..., 0, 0, 0],\n",
       "       [0, 0, 0, ..., 0, 0, 0],\n",
       "       [0, 0, 0, ..., 0, 0, 0]])"
      ]
     },
     "execution_count": 26,
     "metadata": {},
     "output_type": "execute_result"
    }
   ],
   "source": [
    "vectors"
   ]
  },
  {
   "cell_type": "code",
   "execution_count": null,
   "id": "e1060b65-1b2c-4675-9170-9b18a7686571",
   "metadata": {},
   "outputs": [],
   "source": []
  },
  {
   "cell_type": "code",
   "execution_count": 27,
   "id": "2eb65925-88a0-438a-8c13-63768dc9c8aa",
   "metadata": {},
   "outputs": [
    {
     "name": "stdout",
     "output_type": "stream",
     "text": [
      "Requirement already satisfied: nltk in c:\\users\\purua\\appdata\\local\\programs\\python\\python312\\lib\\site-packages (3.9.1)\n",
      "Requirement already satisfied: click in c:\\users\\purua\\appdata\\local\\programs\\python\\python312\\lib\\site-packages (from nltk) (8.1.7)\n",
      "Requirement already satisfied: joblib in c:\\users\\purua\\appdata\\local\\programs\\python\\python312\\lib\\site-packages (from nltk) (1.4.2)\n",
      "Requirement already satisfied: regex>=2021.8.3 in c:\\users\\purua\\appdata\\local\\programs\\python\\python312\\lib\\site-packages (from nltk) (2024.11.6)\n",
      "Requirement already satisfied: tqdm in c:\\users\\purua\\appdata\\local\\programs\\python\\python312\\lib\\site-packages (from nltk) (4.67.1)\n",
      "Requirement already satisfied: colorama in c:\\users\\purua\\appdata\\local\\programs\\python\\python312\\lib\\site-packages (from click->nltk) (0.4.6)\n"
     ]
    }
   ],
   "source": [
    "!pip install nltk"
   ]
  },
  {
   "cell_type": "code",
   "execution_count": 28,
   "id": "129b5783-4287-4d26-a100-f5b32cb2da91",
   "metadata": {},
   "outputs": [],
   "source": [
    "from nltk.stem.porter import PorterStemmer\n",
    "ps = PorterStemmer()"
   ]
  },
  {
   "cell_type": "code",
   "execution_count": 29,
   "id": "2995e83e-7127-4132-ba4e-9563e1b4c30c",
   "metadata": {},
   "outputs": [],
   "source": [
    "def stem(text):\n",
    "    y =[]\n",
    "    for i in text.split():\n",
    "        y.append(ps.stem(i))\n",
    "        return \" \".join(y)"
   ]
  },
  {
   "cell_type": "code",
   "execution_count": 30,
   "id": "43e1d990-575b-47c3-98bf-312b6ab6af15",
   "metadata": {},
   "outputs": [
    {
     "name": "stderr",
     "output_type": "stream",
     "text": [
      "C:\\Users\\purua\\AppData\\Local\\Temp\\ipykernel_16920\\3021978705.py:1: SettingWithCopyWarning: \n",
      "A value is trying to be set on a copy of a slice from a DataFrame.\n",
      "Try using .loc[row_indexer,col_indexer] = value instead\n",
      "\n",
      "See the caveats in the documentation: https://pandas.pydata.org/pandas-docs/stable/user_guide/indexing.html#returning-a-view-versus-a-copy\n",
      "  new_df['tags']= new_df['tags'].apply(stem)\n"
     ]
    }
   ],
   "source": [
    "new_df['tags']= new_df['tags'].apply(stem)"
   ]
  },
  {
   "cell_type": "code",
   "execution_count": 31,
   "id": "9b567020-7011-45ff-a0f7-32afad03a3f1",
   "metadata": {},
   "outputs": [],
   "source": [
    "from sklearn.metrics.pairwise import cosine_similarity"
   ]
  },
  {
   "cell_type": "code",
   "execution_count": 32,
   "id": "965e5ea3-5da1-404f-b9a6-0d3ee401dcd6",
   "metadata": {},
   "outputs": [],
   "source": [
    "similarity = cosine_similarity(vectors)"
   ]
  },
  {
   "cell_type": "code",
   "execution_count": 33,
   "id": "43dd151f-2411-43b3-80f7-13b0f6c4c2c7",
   "metadata": {},
   "outputs": [
    {
     "data": {
      "text/plain": [
       "[(114, np.float64(0.2944840695329241)),\n",
       " (5518, np.float64(0.2330745053742094)),\n",
       " (1982, np.float64(0.22315184957216838)),\n",
       " (429, np.float64(0.19325517063098144)),\n",
       " (8289, np.float64(0.19278507708475193))]"
      ]
     },
     "execution_count": 33,
     "metadata": {},
     "output_type": "execute_result"
    }
   ],
   "source": [
    "sorted(list(enumerate(similarity[0])),reverse=True,key=lambda x:x[1])[1:6]"
   ]
  },
  {
   "cell_type": "code",
   "execution_count": null,
   "id": "29d209ee-c650-4405-bd99-cbb8d2e4a0d0",
   "metadata": {},
   "outputs": [],
   "source": []
  },
  {
   "cell_type": "code",
   "execution_count": 34,
   "id": "aa87128a-4bfa-48f2-9f11-2482fb3380f6",
   "metadata": {},
   "outputs": [],
   "source": [
    "def recommend(movie):\n",
    "    movie_index= new_df[new_df['names'] == movie].index[0]\n",
    "    distances = similarity[movie_index]\n",
    "    movies_list = sorted(list(enumerate(similarity[movie_index])),reverse=True,key=lambda x:x[1])[1:6]\n",
    "    recommended_movies = set()\n",
    "    \n",
    "    # Print the recommended movies\n",
    "    for i in movies_list:\n",
    "        movie_name = new_df.iloc[i[0]].names\n",
    "        if movie_name not in recommended_movies:\n",
    "            print(movie_name)\n",
    "            recommended_movies.add(movie_name)"
   ]
  },
  {
   "cell_type": "code",
   "execution_count": null,
   "id": "8f0de78f-0fa3-4e77-9064-e03cb8e30e8b",
   "metadata": {},
   "outputs": [],
   "source": []
  },
  {
   "cell_type": "code",
   "execution_count": 36,
   "id": "d35854ba-798c-4c7e-8546-27a06bfa3c4a",
   "metadata": {},
   "outputs": [
    {
     "name": "stdout",
     "output_type": "stream",
     "text": [
      "Avatar: The Way of Water\n",
      "Europa Report\n",
      "Krull\n",
      "Star Trek IV: The Voyage Home\n",
      "Jurassic World Dominion\n"
     ]
    }
   ],
   "source": [
    "recommend('Avatar')"
   ]
  },
  {
   "cell_type": "code",
   "execution_count": 37,
   "id": "b29b8e53-9868-475a-946a-432e87fcaaeb",
   "metadata": {},
   "outputs": [],
   "source": [
    "import pickle"
   ]
  },
  {
   "cell_type": "code",
   "execution_count": 38,
   "id": "e2f8f44d-7195-4bbf-b1f0-210b30029454",
   "metadata": {},
   "outputs": [],
   "source": [
    "pickle.dump(new_df,open('movies.pkl','wb'))"
   ]
  },
  {
   "cell_type": "code",
   "execution_count": 41,
   "id": "ac8c52b1-33dc-47c4-aa5c-bdac1014801b",
   "metadata": {},
   "outputs": [
    {
     "data": {
      "text/plain": [
       "array(['Creed III', 'Avatar: The Way of Water',\n",
       "       'The Super Mario Bros. Movie', ..., 'The Russia House',\n",
       "       'Darkman II: The Return of Durant',\n",
       "       'The Swan Princess: A Royal Wedding'], dtype=object)"
      ]
     },
     "execution_count": 41,
     "metadata": {},
     "output_type": "execute_result"
    }
   ],
   "source": [
    "new_df['names'].values"
   ]
  },
  {
   "cell_type": "code",
   "execution_count": 43,
   "id": "ced9789c-4655-4dea-a25c-ec4d6e9b6b07",
   "metadata": {},
   "outputs": [],
   "source": [
    "pickle.dump(new_df.to_dict(),open('movies_dict.pkl','wb'))"
   ]
  },
  {
   "cell_type": "code",
   "execution_count": null,
   "id": "4d065555-2d15-4d3a-85d1-95404221c329",
   "metadata": {},
   "outputs": [],
   "source": []
  }
 ],
 "metadata": {
  "kernelspec": {
   "display_name": "Python 3 (ipykernel)",
   "language": "python",
   "name": "python3"
  },
  "language_info": {
   "codemirror_mode": {
    "name": "ipython",
    "version": 3
   },
   "file_extension": ".py",
   "mimetype": "text/x-python",
   "name": "python",
   "nbconvert_exporter": "python",
   "pygments_lexer": "ipython3",
   "version": "3.12.4"
  }
 },
 "nbformat": 4,
 "nbformat_minor": 5
}
